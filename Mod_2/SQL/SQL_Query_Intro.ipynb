{
 "cells": [
  {
   "cell_type": "markdown",
   "metadata": {},
   "source": [
    "Introduction to SQL Queries"
   ]
  },
  {
   "cell_type": "markdown",
   "metadata": {},
   "source": [
    "## Writing SQL Queries:\n",
    "    \n",
    "SQL syntax is fairly simple to follow, but writing SQL queries can be difficult because of all the logic and relationships you must mentally track. In order to make this a little more simple, we want to break this down into a three step process.  \n",
    "\n",
    "1. Pose a question.\n",
    "2. Determine what data is needed to answer the question, identify the table(s) where that data exists, and understand the relationship between the tables. \n",
    "3. Map all of this to SQL syntax."
   ]
  },
  {
   "cell_type": "markdown",
   "metadata": {},
   "source": [
    "## Syntax rules:\n",
    "\n",
    "`SELECT lastName,firstName FROM Member WHERE state=”CA” AND\n",
    "city=”Fresno” ORDER BY lastName`\n",
    "    \n",
    "- **Capitalization**: The case of the SQL words doesn’t matter; for example, select is the same as SELECT, and from is the same as FROM, as far as MySQL is concerned. On the other hand, the case of the table names, column names, and other variable information does matter if your operating system is Unix or Linux. When you’re using Unix or Linux, MySQL needs to match the column names exactly, so the case for the column names has to be correct — for example, lastname isn’t the same as lastName. Windows, however, isn’t as picky as Unix and Linux; from its point of view, lastname and lastNameare the same.\n",
    "- **Spacing**: SQL words must be separated by one or more spaces. It doesn’t matter how many spaces you use; you could just as well use 20 spaces or just 1 space. SQL also doesn’t pay any attention to the end of the line. You can start a new line at any point in the SQL statement or write the entire statement on one line.\n",
    "- **Quotes**: Notice that CA and Fresno are enclosed in double quotes (“) in the preceding query. CA and Fresno are a series of characters called text strings or character strings. You’re asking MySQL to compare the text strings in the SQL query with the text strings already stored in the database. When you compare numbers (such as integers) stored in numeric columns, you don’t enclose the numbers in quotes.\n",
    "    "
   ]
  },
  {
   "cell_type": "markdown",
   "metadata": {},
   "source": [
    "## SQL Commands: Data Definition Language Commands (DDL)\n",
    "This section will discuss the commands through which you can define your database. The commands are as follows:\n",
    "\n",
    "- CREATE\n",
    "- DROP\n",
    "- TRUNCATE\n",
    "- ALTER\n",
    "- BACKUP DATABASE"
   ]
  },
  {
   "cell_type": "markdown",
   "metadata": {},
   "source": [
    "### CREATE\n",
    "\n",
    "This statement is used to create a table or a database.\n",
    "\n"
   ]
  },
  {
   "cell_type": "markdown",
   "metadata": {},
   "source": [
    "#### The ‘CREATE DATABASE’ Statement:\n",
    "As the name suggests, this statement is used to create a database.\n",
    "\n",
    "**Syntax**\n",
    "\n",
    "`CREATE DATABASE DatabaseName;`\n",
    "\n",
    "**Example**\n",
    "\n",
    "`CREATE DATABASE Employee;`\n"
   ]
  },
  {
   "cell_type": "markdown",
   "metadata": {},
   "source": [
    "#### The **‘CREATE TABLE’** Statement\n",
    "\n",
    "This statement is used to create a table.\n",
    "\n",
    "**Syntax**\n",
    "`CREATE TABLE TableName (\n",
    "Column1 datatype,\n",
    "Column2 datatype,\n",
    "Column3 datatype,\n",
    "....\n",
    "\n",
    "ColumnN datatype\n",
    ");`\n",
    "\n",
    "**Example**\n",
    "\n",
    "`CREATE TABLE Employee_Info\n",
    "(\n",
    "EmployeeID int,\n",
    "EmployeeName varchar(255),\n",
    "Emergency ContactName varchar(255),\n",
    "PhoneNumber int,\n",
    "Address varchar(255),\n",
    "City varchar(255),\n",
    "Country varchar(255)\n",
    ");`\n",
    "\n",
    "You can also create a table using another table. Refer the below sytax and example:\n",
    "\n",
    "#### The ‘CREATE TABLE AS’ Statement\n",
    "**Syntax**\n",
    "\n",
    "`CREATE TABLE NewTableName AS\n",
    "SELECT Column1, column2,..., ColumnN\n",
    "FROM ExistingTableName\n",
    "WHERE ....;`\n",
    "\n",
    "**Example**\n",
    "\n",
    "`CREATE TABLE ExampleTable AS\n",
    "SELECT EmployeeName, PhoneNumber\n",
    "FROM Employee_Info;`"
   ]
  },
  {
   "cell_type": "markdown",
   "metadata": {},
   "source": [
    "### DROP\n",
    "This statement is used to drop an existing table or a database.\n",
    "\n",
    "#### The ‘DROP DATABASE’ Statement\n",
    "This statement is used to drop an existing database. When you use this statement, complete information present in the database will be lost.\n",
    "\n",
    "**Syntax**\n",
    "\n",
    "`DROP DATABASE DatabaseName;`\n",
    "\n",
    "**Example**\n",
    "\n",
    "`DROP DATABASE Employee;`\n",
    "\n",
    "#### The ‘DROP TABLE’ Statement\n",
    "This statement is used to drop an existing table. When you use this statement, complete information present in the table will be lost.\n",
    "\n",
    "**Syntax**\n",
    "\n",
    "`DROP TABLE TableName;`\n",
    "\n",
    "**Example**\n",
    "\n",
    "`DROP Table Employee_Info;`"
   ]
  },
  {
   "cell_type": "markdown",
   "metadata": {},
   "source": [
    "### TRUNCATE\n",
    "This command is used to delete the information present in the table but does not delete the table. So, once you use this command, your information will be lost, but not the table.\n",
    "\n",
    "**Syntax**\n",
    "\n",
    "`TRUNCATE TABLE TableName;`\n",
    "\n",
    "**Example**\n",
    "\n",
    "`TRUNCATE Table Employee_Info;`"
   ]
  },
  {
   "cell_type": "markdown",
   "metadata": {},
   "source": [
    "### The ‘ALTER TABLE’ Statement\n",
    "This statement is used to add, delete, modify columns in an existing table.\n",
    "\n",
    "#### The ‘ALTER TABLE’ Statement with ADD/DROP COLUMN\n",
    "You can use the ALTER TABLE statement with ADD/DROP Column command according to your need. If you wish to add a column, then you will use the ADD command, and if you wish to delete a column, then you will use the DROP COLUMN command.\n",
    "\n",
    "**Syntax**\n",
    "`ALTER TABLE TableName\n",
    "ADD ColumnName Datatype;`\n",
    "\n",
    "`ALTER TABLE TableName\n",
    "DROP COLUMN ColumnName;`\n",
    "\n",
    "**Example**\n",
    "\n",
    "`ALTER TABLE Employee_Info\n",
    "ADD BloodGroup varchar(255);\n",
    " \n",
    "ALTER TABLE Employee_Info\n",
    "DROP COLUMN BloodGroup ;`\n",
    "\n",
    "#### The ‘ALTER TABLE’ Statement with ALTER/MODIFY COLUMN\n",
    "This statement is used to change the datatype of an existing column in a table.\n",
    "\n",
    "**Syntax**\n",
    "\n",
    "`ALTER TABLE TableName\n",
    "ALTER COLUMN ColumnName Datatype;`\n",
    "\n",
    "**Example**\n",
    " \n",
    "`ALTER TABLE Employee_Info\n",
    "ADD DOB year;\n",
    " \n",
    "ALTER TABLE Employee_Info\n",
    "ALTER DOB date;`"
   ]
  },
  {
   "cell_type": "markdown",
   "metadata": {},
   "source": [
    "###B ACKUP DATABASE\n",
    "This statement is used to create a full backup of an existing database.\n",
    "\n",
    "**Syntax**\n",
    "`BACKUP DATABASE DatabaseName\n",
    "TO DISK = 'filepath';`\n",
    "\n",
    "**Example**\n",
    "\n",
    "`BACKUP DATABASE Employee\n",
    "TO DISK = 'C:UsersSahitiDesktop';`\n"
   ]
  },
  {
   "cell_type": "markdown",
   "metadata": {},
   "source": [
    "## SQL Commands: Constraints Used In Database\n",
    "Constraints are used in a database to specify the rules for data in a table. The following are the different types of constraints:\n",
    "\n",
    "- NOT NULL\n",
    "- UNIQUE\n",
    "- CHECK\n",
    "- DEFAULT\n",
    "- INDEX\n",
    "\n",
    "\n",
    "### NOT NULL\n",
    "This constraint ensures that a column cannot have a NULL value.\n",
    "\n",
    "**Example**\n",
    "\n",
    " \n",
    "`CREATE TABLE Employee_Info\n",
    "(\n",
    "EmployeeID int NOT NULL,\n",
    "EmployeeName varchar(255) NOT NULL,\n",
    "Emergency ContactName varchar(255),\n",
    "PhoneNumber int NOT NULL,\n",
    "Address varchar(255),\n",
    "City varchar(255),\n",
    "Country varchar(255)\n",
    ");`\n",
    " \n",
    "NOT NULL on ALTER TABLE\n",
    " \n",
    "`ALTER TABLE Employee_Info\n",
    "MODIFY PhoneNumber int NOT NULL;`\n",
    "\n",
    "### UNIQUE\n",
    "This constraint ensures that all the values in a column are unique.\n",
    "\n",
    "**Example**\n",
    "\n",
    "UNIQUE on Create Table\n",
    " \n",
    "`CREATE TABLE Employee_Info\n",
    "(\n",
    "EmployeeID int NOT NULL UNIQUE,\n",
    "EmployeeName varchar(255) NOT NULL,\n",
    "Emergency ContactName varchar(255),\n",
    "PhoneNumber int NOT NULL,\n",
    "Address varchar(255),\n",
    "City varchar(255),\n",
    "Country varchar(255)\n",
    ");`\n",
    " \n",
    "UNIQUE on Multiple Columns\n",
    " \n",
    "`CREATE TABLE Employee_Info\n",
    "(\n",
    "EmployeeID int NOT NULL,\n",
    "EmployeeName varchar(255) NOT NULL,\n",
    "Emergency ContactName varchar(255),\n",
    "PhoneNumber int NOT NULL,\n",
    "Address varchar(255),\n",
    "City varchar(255),\n",
    "Country varchar(255),\n",
    "CONSTRAINT UC_Employee_Info UNIQUE(Employee_ID, PhoneNumber)\n",
    ");`\n",
    " \n",
    "UNIQUE on ALTER TABLE\n",
    " \n",
    "`ALTER TABLE Employee_Info\n",
    "ADD UNIQUE (Employee_ID);`\n",
    " \n",
    "To drop a UNIQUE constraint\n",
    " \n",
    "`ALTER TABLE  Employee_Info\n",
    "DROP CONSTRAINT UC_Employee_Info;`"
   ]
  },
  {
   "cell_type": "markdown",
   "metadata": {},
   "source": [
    "## Applied: Creating a table\n",
    "\n",
    "Let's create a db using the `students.json` file as our input data"
   ]
  },
  {
   "cell_type": "markdown",
   "metadata": {},
   "source": [
    "### Example Query\n",
    "\n",
    "`create_query = \"\"\"CREATE TABLE IF NOT EXISTS stuffToPlot\n",
    "        (unix REAL, datestamp TEXT, keyword TEXT, value REAL)\"\"\"`"
   ]
  },
  {
   "cell_type": "code",
   "execution_count": 1,
   "metadata": {},
   "outputs": [],
   "source": [
    "import sqlite3\n",
    "import json\n",
    "f=open('students.json','r')\n",
    "data=json.load(f)\n",
    "\n",
    "# query = \"\"\"\n",
    "#         CREATE TABLE IF NOT EXISTS students\n",
    "        \n",
    "#         \"\"\"\n"
   ]
  },
  {
   "cell_type": "code",
   "execution_count": 2,
   "metadata": {},
   "outputs": [
    {
     "data": {
      "text/plain": [
       "[{'name': 'Amora Sun',\n",
       "  'DOB': '11/24/1991',\n",
       "  'siblings': 'none',\n",
       "  'Birthplace': 'China',\n",
       "  'yearinnyc': '22',\n",
       "  'favoritefood': 'Japanese'},\n",
       " {'name': 'Alec Ryman',\n",
       "  'birthdate': '2-14-1993',\n",
       "  'siblings': 1,\n",
       "  'Birthplace': 'New York',\n",
       "  'yearsinnyc': 5,\n",
       "  'favoritefood': 'sushi'},\n",
       " {'name': 'Catherine Wolk',\n",
       "  'birthdate': None,\n",
       "  'siblings': 2,\n",
       "  'Birthplace': 'Danbury, CT',\n",
       "  'yearsinnyc': 6,\n",
       "  'Favoritefood': 'Banh Mi'},\n",
       " {'name': 'Christopher Park',\n",
       "  'birthdate': '10-26-91',\n",
       "  'siblings': 2,\n",
       "  'Birthplace': 'New York City, New York',\n",
       "  'yearsinnyc': 10,\n",
       "  'favoritefood': 'shwarma'},\n",
       " {'name': 'Eric Landstein',\n",
       "  'birthdate': '01-29-91',\n",
       "  'siblings': 1,\n",
       "  'Birthplace': 'Long Island, NY',\n",
       "  'yearsinnyc': 3,\n",
       "  'favoritefood': 'Pizza'},\n",
       " {'name': 'Jaden',\n",
       "  'birthdate': '08-20-1996',\n",
       "  'siblings': 1,\n",
       "  'Birthplace': 'Hong Kong',\n",
       "  'yearsinnyc': 22,\n",
       "  'favoritefood': 'Pizza'},\n",
       " {'name': 'James Moody',\n",
       "  'birthdate': '02-11-1991',\n",
       "  'siblings': 2,\n",
       "  'Birthplace': 'London, UK',\n",
       "  'yearsinnyc': 4,\n",
       "  'favoritefood': 'Vegan Pizza'},\n",
       " {'name': 'John Americk Canque',\n",
       "  'birthdate': 'October 8, 1987',\n",
       "  'siblings': 'None',\n",
       "  'Birthplace': 'Manila, Philippines',\n",
       "  'yearsinnyc': 12,\n",
       "  'favoritefood': 'Steak Chimichanga'},\n",
       " {'name': 'Justin Tennenbaum',\n",
       "  'birthdate': '02-21-1995',\n",
       "  'siblings': 2,\n",
       "  'Birthplace': 'New Brunswick, NJ',\n",
       "  'yearsinnyc': 24,\n",
       "  'favoritefood': 'Ribs'},\n",
       " {'name': 'Karolina Jozefowicz',\n",
       "  'birthdate': '05-05-1993',\n",
       "  'siblings': 1,\n",
       "  'Birthplace': 'Olsztyn, Poland',\n",
       "  'yearsinnyc': 0,\n",
       "  'favoritefood': 'bagels'},\n",
       " {'name': 'Kathrin Verestoun',\n",
       "  'birthdate': '03-14-1988',\n",
       "  'siblings': 1,\n",
       "  'Birthplace': 'Odessa, Ukraine',\n",
       "  'yearsinnyc': 23,\n",
       "  'favoritefood': 'French Fries'},\n",
       " {'name': 'Kevin Sun',\n",
       "  'birthdate': '11/6/97',\n",
       "  'siblings': 1,\n",
       "  'birthplace': 'New Brunswick',\n",
       "  'yearsinnyc': 0,\n",
       "  'favoritefood': 'Mac and Cheese'},\n",
       " {'name': 'Kyle Baranko',\n",
       "  'birthdate': '09-22-95',\n",
       "  'siblings': 2,\n",
       "  'Birthplace': 'Tucson, AZ',\n",
       "  'yearsinnyc': 1,\n",
       "  'favoritefood': 'Pad Thai'},\n",
       " {'name': 'mark cleverley',\n",
       "  'birthdate': 'september 9, 1997',\n",
       "  'siblings': 0,\n",
       "  'Birthplace': 'london',\n",
       "  'yearsinnyc': 4,\n",
       "  'favoritefood': 'fish sticks'},\n",
       " {'name': 'Matt Oliver',\n",
       "  'birthdate': '04/18/1996',\n",
       "  'siblings': 1,\n",
       "  'Birthplace': 'Topsham, Maine',\n",
       "  'yearsinnyc': 0,\n",
       "  'favoritefood': 'Reuben Sandwich'},\n",
       " {'name': 'Michelle Venables',\n",
       "  'birthdate': '10/28/1993',\n",
       "  'siblings': '3',\n",
       "  'Birthplace': 'New Jersey',\n",
       "  'yearsinnyc': '2',\n",
       "  'favoritefood': 'Cucumbers'},\n",
       " {'name': 'Paul E. Kruger',\n",
       "  'birthdate': 'January 4, 1976',\n",
       "  'siblings': 1,\n",
       "  'Birthplace': 'Goshen, NY',\n",
       "  'yearsinnyc': 8,\n",
       "  'favoritefood': 'steak'},\n",
       " {'name': 'Quan Nguyen',\n",
       "  'birthdate': '3/2/94',\n",
       "  'siblings': 1,\n",
       "  'birthplace': 'Vietnam',\n",
       "  'yearsinnyc': 7,\n",
       "  'favoritefood': 'pizza'},\n",
       " {'name': 'Rebecca',\n",
       "  'birthdate': 'May 10',\n",
       "  'siblings': 1,\n",
       "  'Birthplace': 'Detroit, MI',\n",
       "  'yearsinnyc': 0.35,\n",
       "  'favoritefood': 'french toast'},\n",
       " {'name': 'Reuben Kavalov',\n",
       "  'birthdate': '06/25/1995',\n",
       "  'siblings': 3,\n",
       "  'Birthplace': 'Queens, NYC',\n",
       "  'yearsinnyc': 10,\n",
       "  'favoritefood': 'Chili'},\n",
       " {'name': 'Sarah Smith',\n",
       "  'birthdate': '09/26/1989',\n",
       "  'siblings': 2,\n",
       "  'Birthplace': 'Dublin',\n",
       "  'yearsinnyc': 7,\n",
       "  'favoritefood': 'pizza'},\n",
       " {'name': 'Taylor Appel',\n",
       "  'birthdate': '03-26-93',\n",
       "  'siblings': 3,\n",
       "  'Birthplace': 'Morristown, NJ',\n",
       "  'yearsinnyc': 0,\n",
       "  'favoritefood': 'Mac n Cheese'}]"
      ]
     },
     "execution_count": 2,
     "metadata": {},
     "output_type": "execute_result"
    }
   ],
   "source": [
    "data"
   ]
  },
  {
   "cell_type": "code",
   "execution_count": 5,
   "metadata": {},
   "outputs": [
    {
     "data": {
      "text/plain": [
       "dict_keys(['name', 'DOB', 'siblings', 'Birthplace', 'yearinnyc', 'favoritefood'])"
      ]
     },
     "execution_count": 5,
     "metadata": {},
     "output_type": "execute_result"
    }
   ],
   "source": [
    "data[0].keys()"
   ]
  },
  {
   "cell_type": "code",
   "execution_count": 28,
   "metadata": {},
   "outputs": [
    {
     "data": {
      "text/plain": [
       "<sqlite3.Cursor at 0x11d324ce0>"
      ]
     },
     "execution_count": 28,
     "metadata": {},
     "output_type": "execute_result"
    }
   ],
   "source": [
    "query = \"\"\"\n",
    "         CREATE TABLE students\n",
    "         (\n",
    "             name TEXT NOT NULL UNIQUE,\n",
    "             dob TEXT,\n",
    "             siblings NUMERIC,\n",
    "             birthplace TEXT,\n",
    "             yearinnyc NUMERIC\n",
    "             favoritefood TEXT\n",
    "          )\n",
    "        \n",
    "         \"\"\"\n",
    "\n",
    "conn = sqlite3.connect('tutorial.db')\n",
    "c = conn.cursor()\n",
    "\n",
    "c.execute(query)"
   ]
  },
  {
   "cell_type": "code",
   "execution_count": 27,
   "metadata": {},
   "outputs": [
    {
     "data": {
      "text/plain": [
       "<sqlite3.Cursor at 0x11d324dc0>"
      ]
     },
     "execution_count": 27,
     "metadata": {},
     "output_type": "execute_result"
    }
   ],
   "source": [
    "query = \"\"\"\n",
    "         DROP TABLE students;\n",
    "         \"\"\"\n",
    "\n",
    "conn = sqlite3.connect('tutorial.db')\n",
    "c = conn.cursor()\n",
    "\n",
    "c.execute(query)"
   ]
  },
  {
   "cell_type": "code",
   "execution_count": 15,
   "metadata": {},
   "outputs": [],
   "source": [
    "conn.commit()"
   ]
  },
  {
   "cell_type": "code",
   "execution_count": 16,
   "metadata": {},
   "outputs": [],
   "source": [
    "# query = \"\"\"SELECT * FROM students\"\"\"\n",
    "# import pandas as pd\n",
    "# df = pd.DataFrame(c.execute(query).fetchall())\n",
    "# df.columns = [x[0] for x in c.description]"
   ]
  },
  {
   "cell_type": "markdown",
   "metadata": {},
   "source": [
    "## SQL Commands: Data Manipulation Language Commands (DML)\n",
    "This section commands through which you can manipulate the database. The commands are as follows:\n",
    "\n",
    "- USE\n",
    "- INSERT INTO\n",
    "- UPDATE\n",
    "- DELETE\n",
    "- SELECT\n",
    "\n",
    "Apart from these commands, there are also other manipulative operators/functions such as:\n",
    "\n",
    "- Operators \n",
    "- Aggregate Functions\n",
    "- NULL Functions\n",
    "- Aliases & Case Statement"
   ]
  },
  {
   "cell_type": "markdown",
   "metadata": {},
   "source": [
    "### USE\n",
    "The USE statement is used to select the database on which you want to perform operations.\n",
    "\n",
    "**Syntax**\n",
    "\n",
    "`USE DatabaseName;`\n",
    "\n",
    "**Example**\n",
    "\n",
    "`USE Employee;`"
   ]
  },
  {
   "cell_type": "markdown",
   "metadata": {},
   "source": [
    "### INSERT INTO\n",
    "This statement is used to insert new records into the table.\n",
    "\n",
    "**Syntax**\n",
    "`INSERT INTO TableName (Column1, Column2, Column3, ...,ColumnN)\n",
    "VALUES (value1, value2, value3, ...);`\n",
    "\n",
    "--If you don't want to mention the column names then use the below syntax\n",
    "\n",
    "`INSERT INTO TableName\n",
    "VALUES (Value1, Value2, Value3, ...);`\n",
    "\n",
    "**Example**\n",
    "\n",
    "`INSERT INTO Employee_Info(EmployeeID, EmployeeName, Emergency ContactName, PhoneNumber, Address, City, Country)\n",
    "VALUES ('06', 'Sanjana','Jagannath', '9921321141', 'Camel Street House No 12', 'Chennai', 'India');`\n",
    " \n",
    "`INSERT INTO Employee_Info\n",
    "VALUES ('07', 'Sayantini','Praveen', '9934567654', 'Nice Road 21', 'Pune', 'India');`\n"
   ]
  },
  {
   "cell_type": "markdown",
   "metadata": {},
   "source": [
    "### UPDATE\n",
    "This statement is used to modify the records already present in the table.\n",
    "\n",
    "**Syntax**\n",
    "\n",
    "`UPDATE TableName\n",
    "SET Column1 = Value1, Column2 = Value2, ...\n",
    "WHERE Condition;`\n",
    "\n",
    "**Example**\n",
    "\n",
    "`UPDATE Employee_Info\n",
    "SET EmployeeName = 'Aahana', City= 'Ahmedabad'\n",
    "WHERE EmployeeID = 1;`"
   ]
  },
  {
   "cell_type": "markdown",
   "metadata": {},
   "source": [
    "### DELETE\n",
    "This statement is used to delete the existing records in a table.\n",
    "\n",
    "**Syntax**\n",
    "\n",
    "`DELETE FROM TableName WHERE Condition;`\n",
    "\n",
    "**Example**\n",
    "\n",
    "`DELETE FROM Employee_Info\n",
    "WHERE EmployeeName='Preeti';`"
   ]
  },
  {
   "cell_type": "markdown",
   "metadata": {},
   "source": [
    "## Applied: Insert data into the students table"
   ]
  },
  {
   "cell_type": "markdown",
   "metadata": {},
   "source": [
    "### Example:\n",
    "`insert_query = \"\"\"INSERT INTO stuffToPlot VALUES\n",
    "                (1452549219,'2016-01-11 13:53:39','Python',6)\"\"\"`"
   ]
  },
  {
   "cell_type": "code",
   "execution_count": 26,
   "metadata": {},
   "outputs": [
    {
     "name": "stdout",
     "output_type": "stream",
     "text": [
      "Amora Sun\n"
     ]
    },
    {
     "ename": "OperationalError",
     "evalue": "table students has no column named favoritefood",
     "output_type": "error",
     "traceback": [
      "\u001b[0;31m---------------------------------------------------------------------------\u001b[0m",
      "\u001b[0;31mOperationalError\u001b[0m                          Traceback (most recent call last)",
      "\u001b[0;32m<ipython-input-26-78063565c466>\u001b[0m in \u001b[0;36m<module>\u001b[0;34m\u001b[0m\n\u001b[1;32m     10\u001b[0m                               \u001b[0mstudent\u001b[0m\u001b[0;34m[\u001b[0m\u001b[0;34m'Birthplace'\u001b[0m\u001b[0;34m]\u001b[0m\u001b[0;34m,\u001b[0m\u001b[0;34m\u001b[0m\u001b[0;34m\u001b[0m\u001b[0m\n\u001b[1;32m     11\u001b[0m                               \u001b[0mstudent\u001b[0m\u001b[0;34m[\u001b[0m\u001b[0;34m'yearinnyc'\u001b[0m\u001b[0;34m]\u001b[0m\u001b[0;34m,\u001b[0m\u001b[0;34m\u001b[0m\u001b[0;34m\u001b[0m\u001b[0m\n\u001b[0;32m---> 12\u001b[0;31m                               \u001b[0mstudent\u001b[0m\u001b[0;34m[\u001b[0m\u001b[0;34m'favoritefood'\u001b[0m\u001b[0;34m]\u001b[0m\u001b[0;34m\u001b[0m\u001b[0;34m\u001b[0m\u001b[0m\n\u001b[0m\u001b[1;32m     13\u001b[0m                              )\n\u001b[1;32m     14\u001b[0m                      )\n",
      "\u001b[0;31mOperationalError\u001b[0m: table students has no column named favoritefood"
     ]
    }
   ],
   "source": [
    "for student in data:\n",
    "    query = \"\"\"\n",
    "              INSERT INTO students (name, dob, siblings, birthplace, yearinnyc, favoritefood) \n",
    "              VALUES (?, ?, ?, ?, ?, ?)\n",
    "              \"\"\"\n",
    "    print(student['name'])\n",
    "    c.execute(query, (student['name'], \n",
    "                              student['DOB'], \n",
    "                              student['siblings'], \n",
    "                              student['Birthplace'], \n",
    "                              student['yearinnyc'], \n",
    "                              student['favoritefood']\n",
    "                             )\n",
    "                     )\n",
    "conn.commit()\n",
    "    "
   ]
  },
  {
   "cell_type": "markdown",
   "metadata": {},
   "source": [
    "## Select Statements\n",
    "\n",
    "Select statements is the primary type of query you will write, as this is how we write q query to pull data back from a db\n",
    "\n",
    "\n",
    "https://www.codecademy.com/articles/sql-commands"
   ]
  },
  {
   "cell_type": "markdown",
   "metadata": {},
   "source": [
    "### SELECT\n",
    "SELECT chooses the fields that you want displayed in your chart. This is the specific piece of information that you want to pull from your database.\n",
    "\n",
    "**Syntax**\n",
    "\n",
    "`SELECT first_name, last_name;`\n",
    "\n",
    "Select * will pull back every column in the table\n"
   ]
  },
  {
   "cell_type": "markdown",
   "metadata": {},
   "source": [
    " ### FROM\n",
    "FROM pinpoints the table that you want to pull the data from. \n",
    "\n",
    "**Syntax** \n",
    "`SELECT first_name, last_name\n",
    " FROM table;`"
   ]
  },
  {
   "cell_type": "markdown",
   "metadata": {},
   "source": [
    "### WHERE\n",
    "WHERE allows you to filter your query to be more specific. You  set up a conditional to filter your data\n",
    "\n",
    "**syntax**\n",
    "\n",
    "`SELECT first_name, last_name\n",
    "FROM table\n",
    "WHERE column = value`"
   ]
  },
  {
   "cell_type": "markdown",
   "metadata": {},
   "source": [
    "### AND\n",
    "AND allows you to add additional criteria to your WHERE statement. \n",
    "\n",
    "\n",
    "**Syntax**\n",
    "\n",
    "`SELECT\n",
    "     first_name, last_name\n",
    "FROM\n",
    "     table\n",
    "WHERE\n",
    "     column = value\n",
    "AND\n",
    "     column BETWEEN value AND value;`"
   ]
  },
  {
   "cell_type": "markdown",
   "metadata": {},
   "source": [
    "\n",
    "### ORDER BY\n",
    "\n",
    "Your ORDER BY clause will allow you to sort by any of the fields that you have specified in the SELECT statement. \n",
    "\n",
    "**Syntax**\n",
    "\n",
    "`SELECT\n",
    "     first_name, last_name\n",
    "FROM\n",
    "     table\n",
    "WHERE\n",
    "     column = value\n",
    "AND\n",
    "     column BETWEEN value AND value\n",
    "ORDER BY\n",
    "     column;`\n"
   ]
  },
  {
   "cell_type": "markdown",
   "metadata": {},
   "source": [
    "\n",
    "\n",
    "\n",
    "\n",
    "### GROUP BY\n",
    "\"GROUP BY\" is similar to the function in pandas where it will aggregate data that has similarities.\n",
    "\n",
    "Here is your SQL query:\n",
    "\n",
    "**Syntax**\n",
    "\n",
    "`SELECT\n",
    "     first_name, COUNT(last_name)\n",
    "FROM\n",
    "     table\n",
    "WHERE\n",
    "     column = value\n",
    "AND\n",
    "     column BETWEEN value AND value\n",
    "GROUP BY\n",
    "     column;`\n",
    "\n",
    "\n"
   ]
  },
  {
   "cell_type": "markdown",
   "metadata": {},
   "source": [
    "### LIMIT\n",
    "Depending on the amount of data you have in your database, it may take a long time to run the queries. It can be frustrating if you find yourself waiting a long time to run a query that you didn't really want to begin with. If you want to test our query, the LIMIT function is a great one to use because it allows you to limit the number of results you get.\n",
    "\n",
    "**Syntax**\n",
    "\n",
    "`SELECT\n",
    "     first_name, COUNT(last_name)\n",
    "FROM\n",
    "     table\n",
    "WHERE\n",
    "     column = value\n",
    "AND\n",
    "     column BETWEEN value AND value\n",
    "GROUP BY\n",
    "     column\n",
    "LIMIT\n",
    "     100;`"
   ]
  },
  {
   "cell_type": "markdown",
   "metadata": {},
   "source": [
    "## Applied: Write queries to answer the following questions:\n",
    "\n",
    "\n",
    "### Questions\n",
    "- Which student was born closest to the cohort's graduation date?\n",
    "- Which student has the most siblings?\n",
    "- How many students are only children?\n",
    "- Which 3 students have lived in NYC the shortest amount of time?\n",
    "- How many students are native New Yorkers?\n",
    "- Do any two students have the same favorite food?"
   ]
  },
  {
   "cell_type": "code",
   "execution_count": null,
   "metadata": {},
   "outputs": [],
   "source": []
  }
 ],
 "metadata": {
  "kernelspec": {
   "display_name": "Python 3",
   "language": "python",
   "name": "python3"
  },
  "language_info": {
   "codemirror_mode": {
    "name": "ipython",
    "version": 3
   },
   "file_extension": ".py",
   "mimetype": "text/x-python",
   "name": "python",
   "nbconvert_exporter": "python",
   "pygments_lexer": "ipython3",
   "version": "3.7.3"
  }
 },
 "nbformat": 4,
 "nbformat_minor": 2
}
